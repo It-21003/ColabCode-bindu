{
  "nbformat": 4,
  "nbformat_minor": 0,
  "metadata": {
    "colab": {
      "provenance": [],
      "authorship_tag": "ABX9TyP/InD2fdo4CVUw38gKBnN+",
      "include_colab_link": true
    },
    "kernelspec": {
      "name": "python3",
      "display_name": "Python 3"
    },
    "language_info": {
      "name": "python"
    }
  },
  "cells": [
    {
      "cell_type": "markdown",
      "metadata": {
        "id": "view-in-github",
        "colab_type": "text"
      },
      "source": [
        "<a href=\"https://colab.research.google.com/github/It-21003/ColabCode-bindu/blob/main/Untitled0.ipynb\" target=\"_parent\"><img src=\"https://colab.research.google.com/assets/colab-badge.svg\" alt=\"Open In Colab\"/></a>"
      ]
    },
    {
      "cell_type": "code",
      "execution_count": 1,
      "metadata": {
        "colab": {
          "base_uri": "https://localhost:8080/"
        },
        "id": "TCABYOjnHmn1",
        "outputId": "efc1fb03-88c0-4d48-f397-fd31456f6db1"
      },
      "outputs": [
        {
          "output_type": "stream",
          "name": "stdout",
          "text": [
            "--2024-11-07 14:56:49--  https://raw.githubusercontent.com/It-21003/ColabCode-bindu/refs/heads/main/BinduMath.py\n",
            "Resolving raw.githubusercontent.com (raw.githubusercontent.com)... 185.199.108.133, 185.199.109.133, 185.199.110.133, ...\n",
            "Connecting to raw.githubusercontent.com (raw.githubusercontent.com)|185.199.108.133|:443... connected.\n",
            "HTTP request sent, awaiting response... 200 OK\n",
            "Length: 150 [text/plain]\n",
            "Saving to: ‘BinduMath.py’\n",
            "\n",
            "\rBinduMath.py          0%[                    ]       0  --.-KB/s               \rBinduMath.py        100%[===================>]     150  --.-KB/s    in 0s      \n",
            "\n",
            "2024-11-07 14:56:49 (2.37 MB/s) - ‘BinduMath.py’ saved [150/150]\n",
            "\n",
            "3.1415926536\n",
            "Enter Digit:500\n",
            "3.14159265358979323846264338327950288419716939937510582097494459230781640628620899862803482534211706798214808651328230664709384460955058223172535940812848111745028410270193852110555964462294895493038196442881097566593344612847564823378678316527120190914564856692346034861045432664821339360726024914127372458700660631558817488152092096282925409171536436789259036001133053054882046652138414695194151160943305727036575959195309218611738193261179310511854807446237996274956735188575272489122793818301194913\n"
          ]
        }
      ],
      "source": [
        "import sys\n",
        "\n",
        "!wget https://raw.githubusercontent.com/It-21003/ColabCode-bindu/refs/heads/main/BinduMath.py\n",
        "\n",
        "sys.path.append('/content') # Add the current directory to the path\n",
        "\n",
        "from BinduMath import printBigpi\n",
        "\n",
        "n=int(input(\"Enter Digit:\"))\n",
        "print(printBigpi(n))"
      ]
    }
  ]
}